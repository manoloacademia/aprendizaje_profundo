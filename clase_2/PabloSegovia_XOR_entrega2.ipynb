{
 "cells": [
  {
   "cell_type": "code",
   "execution_count": 1,
   "metadata": {},
   "outputs": [],
   "source": [
    "# Importamos las librerías necesarias de uso\n",
    "import numpy as np\n",
    "import matplotlib.pyplot as plt\n",
    "import torch\n",
    "import torch.nn as nn"
   ]
  },
  {
   "cell_type": "markdown",
   "metadata": {
    "jp-MarkdownHeadingCollapsed": true
   },
   "source": [
    "## Planteamos modelo XOR puramente con python"
   ]
  },
  {
   "cell_type": "code",
   "execution_count": 2,
   "metadata": {},
   "outputs": [],
   "source": [
    "# Generamos la tabla de entradas\n",
    "X = np.array([\n",
    "    [0,0],\n",
    "    [0,1],\n",
    "    [1,0],\n",
    "    [1,1]\n",
    "], dtype=np.float32)\n",
    "y = np.array([0,1,1,0], dtype=np.float32)"
   ]
  },
  {
   "cell_type": "code",
   "execution_count": 3,
   "metadata": {},
   "outputs": [
    {
     "data": {
      "text/plain": [
       "array([[0., 0., 1.],\n",
       "       [0., 1., 1.],\n",
       "       [1., 0., 1.],\n",
       "       [1., 1., 1.]])"
      ]
     },
     "execution_count": 3,
     "metadata": {},
     "output_type": "execute_result"
    }
   ],
   "source": [
    "# En este caso, vamos a considerar que incluyen los biases para que se simplifique el cálculo vectorial\n",
    "X = np.append(X, np.ones(shape=(X.shape[0],1)), axis=1)\n",
    "X"
   ]
  },
  {
   "cell_type": "code",
   "execution_count": 4,
   "metadata": {},
   "outputs": [
    {
     "data": {
      "text/plain": [
       "(4, 3)"
      ]
     },
     "execution_count": 4,
     "metadata": {},
     "output_type": "execute_result"
    }
   ],
   "source": [
    "# Vamos a considerar el shape de X para definir los pesos a utilizar\n",
    "n, m = X.shape\n",
    "n, m"
   ]
  },
  {
   "cell_type": "code",
   "execution_count": 5,
   "metadata": {},
   "outputs": [],
   "source": [
    "# Vamos a generar los pesos y los inicializamos random\n",
    "w1_1 = np.random.random(size=(m,1))\n",
    "w1_2 = np.random.random(size=(m,1))\n",
    "w2_1 = np.random.random(size=(m,1))"
   ]
  },
  {
   "cell_type": "code",
   "execution_count": 6,
   "metadata": {},
   "outputs": [
    {
     "name": "stdout",
     "output_type": "stream",
     "text": [
      "Los valores de los z son: [0.88583451] y [0.58848396]\n"
     ]
    }
   ],
   "source": [
    "# Para corroborar los cálculos, vamos a usar la primera fila de X\n",
    "# Calculamos entonces la primera capa\n",
    "z1_1 = X[0,:] @ w1_1\n",
    "z1_2 = X[0,:] @ w1_2\n",
    "print(f\"Los valores de los z son: {z1_1} y {z1_2}\")"
   ]
  },
  {
   "cell_type": "code",
   "execution_count": 7,
   "metadata": {},
   "outputs": [],
   "source": [
    "# Debemos utilizar una función que no linealice esta salida, ya que no tendría sentido el planteo\n",
    "# Podemos utilzar para esta función una sigmoide como activación\n",
    "def sigmoide(z):\n",
    "    return 1/(1+np.exp(-z))"
   ]
  },
  {
   "cell_type": "code",
   "execution_count": 8,
   "metadata": {},
   "outputs": [
    {
     "name": "stdout",
     "output_type": "stream",
     "text": [
      "Los valores de los 1 son: [0.70802981] y [0.64301722]\n"
     ]
    }
   ],
   "source": [
    "# Utilizamos esta función de activación sobre los z\n",
    "a1_1 = sigmoide(z1_1)\n",
    "a1_2 = sigmoide(z1_2)\n",
    "print(f\"Los valores de los 1 son: {a1_1} y {a1_2}\")"
   ]
  },
  {
   "cell_type": "code",
   "execution_count": 9,
   "metadata": {},
   "outputs": [
    {
     "data": {
      "text/plain": [
       "(3,)"
      ]
     },
     "execution_count": 9,
     "metadata": {},
     "output_type": "execute_result"
    }
   ],
   "source": [
    "# Para calcular la segunda capa, debemos generar un vector auxiliar con estos a y sumamos el 1 del bias\n",
    "x_aux = np.array([a1_1[0], a1_2[0], 1], dtype=np.float32) # se usa el índice 0 para que se usen los números y no los vectores\n",
    "x_aux.shape"
   ]
  },
  {
   "cell_type": "code",
   "execution_count": 10,
   "metadata": {},
   "outputs": [
    {
     "name": "stdout",
     "output_type": "stream",
     "text": [
      "El valor de última salida es: [0.3282829]\n"
     ]
    }
   ],
   "source": [
    "# Con este vector auxiliar, planteamos entonces la segunda capa\n",
    "z2_1 = x_aux @ w2_1\n",
    "print(f'El valor de última salida es: {z2_1}')"
   ]
  },
  {
   "cell_type": "code",
   "execution_count": 11,
   "metadata": {},
   "outputs": [
    {
     "name": "stdout",
     "output_type": "stream",
     "text": [
      "Este es el valor de la predicción de y: 0.32828290128951987\n"
     ]
    }
   ],
   "source": [
    "# Como este z no pasa por la sigmoide en esta capa, es igual a a, quien a su vez es el valor predicho\n",
    "y_pred = z2_1[0] # consideramos nuevamente el valor no el array\n",
    "print(f'Este es el valor de la predicción de y: {y_pred}')"
   ]
  },
  {
   "cell_type": "code",
   "execution_count": 12,
   "metadata": {},
   "outputs": [
    {
     "name": "stdout",
     "output_type": "stream",
     "text": [
      "Vemos el residuo generado y el error: -0.32828290128951987 y 0.10776966327906465\n"
     ]
    }
   ],
   "source": [
    "# Para calcular el error, debemos restar este valor en el valor verdadero (residuo) y luego aplicar el cuadrado (por MSE)\n",
    "residuo = y[0] - y_pred # usamos el mismo índice de X\n",
    "error = np.square(residuo)\n",
    "print(f'Vemos el residuo generado y el error: {residuo} y {error}')"
   ]
  },
  {
   "cell_type": "code",
   "execution_count": 13,
   "metadata": {},
   "outputs": [
    {
     "name": "stdout",
     "output_type": "stream",
     "text": [
      "Vemos los resultados de los gradientes -> \n",
      "dw1_2:[[0.        ]\n",
      " [0.        ]\n",
      " [0.00161314]], \n",
      "dw1_1:[[0.        ]\n",
      " [0.        ]\n",
      " [0.00310596]] y \n",
      "dw2_1:[[0.11621704]\n",
      " [0.10554578]\n",
      " [0.16414145]]\n"
     ]
    }
   ],
   "source": [
    "# Como ya tenemos el valor de error generado, podríamos plantear el backpropagation\n",
    "dw1_1 = (-2*(1/n)*residuo*w2_1[0]*a1_1[0]*(1-a1_1[0])*X[0,:]).reshape(-1,1)\n",
    "dw1_2 = (-2*(1/n)*residuo*w2_1[1]*a1_2[0]*(1-a1_2[0])*X[0,:]).reshape(-1,1)\n",
    "dw2_1 = (-2*(1/n)*residuo*x_aux).reshape(-1,1)\n",
    "print(f'Vemos los resultados de los gradientes -> \\ndw1_2:{dw1_2}, \\ndw1_1:{dw1_1} y \\ndw2_1:{dw2_1}')"
   ]
  },
  {
   "cell_type": "code",
   "execution_count": 14,
   "metadata": {},
   "outputs": [
    {
     "name": "stdout",
     "output_type": "stream",
     "text": [
      "Vemos los resultados de los pesos actualizados -> \n",
      "w1_1:[[0.99786639]\n",
      " [0.70285211]\n",
      " [0.88552391]], \n",
      "w1_2:[[0.8468673 ]\n",
      " [0.49904643]\n",
      " [0.58832264]] y \n",
      "w2_1:[[0.07991331]\n",
      " [0.0322593 ]\n",
      " [0.21952917]]\n"
     ]
    }
   ],
   "source": [
    "# Actualizamos los valores de los wights, para ello, necesitamos definir un learning rate de 0.1\n",
    "lr = 0.1\n",
    "w1_1 -= lr * dw1_1 \n",
    "w1_2 -= lr * dw1_2\n",
    "w2_1 -= lr * dw2_1\n",
    "print(f'Vemos los resultados de los pesos actualizados -> \\nw1_1:{w1_1}, \\nw1_2:{w1_2} y \\nw2_1:{w2_1}')"
   ]
  },
  {
   "cell_type": "code",
   "execution_count": 15,
   "metadata": {},
   "outputs": [],
   "source": [
    "# Ahora que tenemos los nuevos valores de pesos, podemos realizar una función que genere los MSE usando SGD\n",
    "# Se deben generar un número de epochs para la iteración (tomaremos 20000)\n",
    "def fit_XOR(X: np.ndarray, y: np.ndarray, lr=0.1, epochs=20000):\n",
    "    # Inicializamos las listas vacías de MSE y resultados\n",
    "    lista_MSE = []\n",
    "    \n",
    "    # Añadimos la columna de unos\n",
    "    X = np.append(X, np.ones(shape=(X.shape[0],1)), axis=1)\n",
    "    \n",
    "    # Definimos los valores de las dimensiones a utilizar\n",
    "    n, m = X.shape\n",
    "    \n",
    "    # Inicializamos los valores random de los pesos\n",
    "    w1_1 = np.random.random(size=(m,1))\n",
    "    w1_2 = np.random.random(size=(m,1))\n",
    "    w2_1 = np.random.random(size=(m,1))\n",
    "    \n",
    "    # Iteramos el número de épocas\n",
    "    for epoch in range(epochs):\n",
    "        # Generamos la mezcla de los índices (ya que se usa SGD)\n",
    "        idx = np.random.permutation(n)\n",
    "        X = X[idx]\n",
    "        y = y[idx]\n",
    "        \n",
    "        # Inicializamos en valor 0 de MSE (que se irá actualizando)\n",
    "        MSE = 0\n",
    "        \n",
    "        # Iteramos sobre el rango de X\n",
    "        for i in range(n):\n",
    "            # Calculamos los z de la primera capa\n",
    "            z1_1 = X[i,:] @ w1_1\n",
    "            z1_2 = X[i,:] @ w1_2\n",
    "            \n",
    "            # Los pasamos por la función de activación\n",
    "            a1_1 = sigmoide(z1_1)\n",
    "            a1_2 = sigmoide(z1_2)\n",
    "            \n",
    "            # Calculamos el x auxiliar\n",
    "            x_aux = np.array([a1_1[0], a1_2[0], 1], dtype=np.float32)\n",
    "            \n",
    "            # Plantemos el z de la segunda capa\n",
    "            z2_1 = x_aux @ w2_1\n",
    "            \n",
    "            # Calculamos la predicción\n",
    "            y_pred = z2_1[0]\n",
    "            \n",
    "            # Calculamos el residuo y el error. Lo actualizamos al MSE\n",
    "            residuo = y[i] - y_pred\n",
    "            error = np.square(residuo)\n",
    "            MSE += error\n",
    "            \n",
    "            # Calculamos los gradientes del backpropagation\n",
    "            dw1_1 = (-2*(1/n)*residuo*w2_1[0]*a1_1[0]*(1-a1_1[0])*X[i,:]).reshape(-1,1)\n",
    "            dw1_2 = (-2*(1/n)*residuo*w2_1[1]*a1_2[0]*(1-a1_2[0])*X[i,:]).reshape(-1,1)\n",
    "            dw2_1 = (-2*(1/n)*residuo*x_aux).reshape(-1,1)\n",
    "            \n",
    "            # Actualizamos los valores de los pesos\n",
    "            w1_1 -= lr * dw1_1\n",
    "            w1_2 -= lr * dw1_2\n",
    "            w2_1 -= lr * dw2_1\n",
    "            \n",
    "        # Agregamos el valor a la lista\n",
    "        lista_MSE.append(MSE/4)\n",
    "        \n",
    "        # Imprimimos algunos valores para ver el entrenamiento\n",
    "        if (epoch % (epochs/10)) == 0:\n",
    "            print(\"epoch: \", epoch, \", MSE: \", MSE)\n",
    "    \n",
    "    return lista_MSE"
   ]
  },
  {
   "cell_type": "markdown",
   "metadata": {},
   "source": []
  },
  {
   "cell_type": "code",
   "execution_count": 16,
   "metadata": {},
   "outputs": [
    {
     "name": "stdout",
     "output_type": "stream",
     "text": [
      "epoch:  0 , MSE:  6.192982509578505\n",
      "epoch:  2000 , MSE:  0.05370128915648016\n",
      "epoch:  4000 , MSE:  1.6148385551018535e-11\n",
      "epoch:  6000 , MSE:  3.1251435449602456e-15\n",
      "epoch:  8000 , MSE:  2.9111637325713993e-15\n",
      "epoch:  10000 , MSE:  2.7664455513759784e-15\n",
      "epoch:  12000 , MSE:  3.0975866629658816e-15\n",
      "epoch:  14000 , MSE:  8.241141397490854e-15\n",
      "epoch:  16000 , MSE:  2.9952677462944413e-15\n",
      "epoch:  18000 , MSE:  2.8606688621969163e-15\n"
     ]
    }
   ],
   "source": [
    "# Inicializamos los valores de X y y\n",
    "X = np.array([\n",
    "    [0,0],\n",
    "    [0,1],\n",
    "    [1,0],\n",
    "    [1,1]\n",
    "], dtype=np.float32)\n",
    "y = np.array([0,1,1,0], dtype=np.float32)\n",
    "# Hacemos una prueba de la función\n",
    "resultados = fit_XOR(X, y)"
   ]
  },
  {
   "cell_type": "code",
   "execution_count": 17,
   "metadata": {},
   "outputs": [
    {
     "data": {
      "image/png": "[encoded data removed]",
      "text/plain": [
       "<Figure size 640x480 with 1 Axes>"
      ]
     },
     "metadata": {},
     "output_type": "display_data"
    }
   ],
   "source": [
    "# Ploteamos los resultados\n",
    "plt.plot(resultados);"
   ]
  },
  {
   "cell_type": "markdown",
   "metadata": {},
   "source": [
    "## Planteamos XOR con optimizador MiniBatch y momento de primer orden"
   ]
  },
  {
   "cell_type": "code",
   "execution_count": 66,
   "metadata": {},
   "outputs": [],
   "source": [
    "# Ahora que tenemos los nuevos valores de pesos, podemos realizar una función que genere los MSE usando MiniBatch\n",
    "# Se deben generar un número de epochs para la iteración (tomaremos 5000)\n",
    "def fit_XOR_miniBatch(X: np.ndarray, y: np.ndarray, lr=0.1, epochs=5000, epsilon=0.2, batch_size=2):\n",
    "    # Inicializamos las listas vacías de MSE y resultados\n",
    "    lista_MSE = []\n",
    "    \n",
    "    # Definimos los valores de las dimensiones a utilizar\n",
    "    n, m = X.shape\n",
    "        \n",
    "    # Inicializamos los valores random de los pesos\n",
    "    w1_1 = np.random.random(size=3)\n",
    "    w1_2 = np.random.random(size=3)\n",
    "    w2_1 = np.random.random(size=3)\n",
    "    #print(f'dimension w1_1:{w1_1.shape}')\n",
    "   \n",
    "    # Generamos valores random de los vs\n",
    "    v1_1 = np.random.random(size=3)\n",
    "    v1_2 = np.random.random(size=3)\n",
    "    v2_1 = np.random.random(size=3)\n",
    "   \n",
    "    # Iteramos el número de épocas\n",
    "    for epoch in range(epochs):\n",
    "        # Generamos la mezcla de los índices\n",
    "        idx = np.random.permutation(n)\n",
    "        X = X[idx]\n",
    "        y = y[idx]\n",
    "        \n",
    "        # Inicializamos en valor 0 de MSE (que se irá actualizando)\n",
    "        MSE = 0\n",
    "        \n",
    "        # Iteramos sobre el rango de X\n",
    "        for batch in range(0, n, batch_size):          \n",
    "            # Generamos los datos del batch\n",
    "            X_batch = X[idx[batch:batch+batch_size]]\n",
    "            y_batch = y[idx[batch:batch+batch_size]]\n",
    "            \n",
    "            # Añadimos la columna de unos\n",
    "            X_batch = np.append(X_batch, np.ones(shape=(X_batch.shape[0],1)), axis=1)\n",
    "            #print(f'dimension X_batch:{X_batch.shape} and y_batch: {y_batch.shape}')   \n",
    "\n",
    "            # Calculamos los z de la primera capa\n",
    "            z1_1 = X_batch @ w1_1.T\n",
    "            z1_2 = X_batch @ w1_2.T\n",
    "            #print(f'dimension z1_1:{z1_1.shape} and z1_2: {z1_2.shape}')\n",
    "\n",
    "            # Los pasamos por la función de activación\n",
    "            a1_1 = sigmoide(z1_1).reshape(-1,1)\n",
    "            a1_2 = sigmoide(z1_2).reshape(-1,1)\n",
    "            #print(f'dimension a1_1:{a1_1.shape} and a1_2: {a1_2.shape}')\n",
    "            \n",
    "            # Calculamos el x auxiliar\n",
    "            x_aux = np.concatenate([a1_1, a1_2, np.ones(shape=(2,1))], axis=1)\n",
    "            #print(f'dimension x_aux:{x_aux.shape}')\n",
    "            \n",
    "            # Plantemos el z de la segunda capa\n",
    "            z2_1 = x_aux @ w2_1\n",
    "            #print(f'dimension z2_1:{z2_1.shape}')\n",
    "            \n",
    "            # Calculamos la predicción\n",
    "            y_pred = z2_1\n",
    "            #print(f'dimension y_pred:{y_pred.shape}')\n",
    "            \n",
    "            # Calculamos el residuo y el error. Lo actualizamos al MSE\n",
    "            residuo = y_batch - y_pred\n",
    "            #print(f'dimension residuo:{residuo.shape}')\n",
    "            error = np.square(residuo).mean()\n",
    "            MSE += error\n",
    "            #print(f'dimension error:{error.shape}')\n",
    "            \n",
    "            # Calculamos los gradientes del backpropagation\n",
    "            dw2_1 = -2 * residuo.reshape(-1,1) * x_aux\n",
    "            dw2_1 = dw2_1.mean(axis=0)\n",
    "            #print(f'dimension dw2_1:{dw2_1.shape}')\n",
    "            dw1_1 = -2 * residuo.reshape(-1,1) * a1_1 * (1-a1_1) * w2_1[0] * X_batch\n",
    "            dw1_1 = dw1_1.mean(axis=0)\n",
    "            #print(f'dimension dw1_1:{dw1_1.shape}')\n",
    "            dw1_2 = -2 * residuo.reshape(-1,1) * a1_2 * (1-a1_2) * w2_1[1] * X_batch\n",
    "            dw1_2 = dw1_2.mean(axis=0)\n",
    "            #print(f'dimension dw1_2:{dw1_2.shape}')\n",
    "\n",
    "            # Definimos los vs para aplicar momentos de primer orden\n",
    "            v2_1 = epsilon * v2_1 + lr * dw2_1\n",
    "            v1_1 = epsilon * v1_1 + lr * dw1_1\n",
    "            v1_2 = epsilon * v1_2 + lr * dw1_2\n",
    "           \n",
    "\n",
    "            # Actualizamos los valores de los pesos\n",
    "            w1_1 -= v1_1\n",
    "            w1_2 -= v1_2\n",
    "            w2_1 -= v2_1\n",
    "            \n",
    "        # Agregamos el valor a la lista\n",
    "        lista_MSE.append(MSE)\n",
    "        \n",
    "        # Imprimimos algunos valores para ver el entrenamiento\n",
    "        if (epoch % (epochs/10)) == 0:\n",
    "            print(\"epoch: \", epoch, \", MSE: \", MSE)\n",
    "    \n",
    "    return lista_MSE"
   ]
  },
  {
   "cell_type": "code",
   "execution_count": 71,
   "metadata": {},
   "outputs": [
    {
     "name": "stdout",
     "output_type": "stream",
     "text": [
      "epoch:  0 , MSE:  0.6634492543798733\n",
      "epoch:  500 , MSE:  0.49938561296924633\n",
      "epoch:  1000 , MSE:  0.4937049590709083\n",
      "epoch:  1500 , MSE:  0.3843139679682733\n",
      "epoch:  2000 , MSE:  0.021225924740384407\n",
      "epoch:  2500 , MSE:  1.787880343053287e-06\n",
      "epoch:  3000 , MSE:  8.110767827120427e-11\n",
      "epoch:  3500 , MSE:  4.61525050280729e-15\n",
      "epoch:  4000 , MSE:  2.397138081199506e-19\n",
      "epoch:  4500 , MSE:  6.797031156257661e-24\n",
      "epoch:  0 , MSE:  2.2296082745979455\n",
      "epoch:  500 , MSE:  0.7008873266093407\n",
      "epoch:  1000 , MSE:  0.5006246897640803\n",
      "epoch:  1500 , MSE:  0.5011523930180517\n",
      "epoch:  2000 , MSE:  0.6516253109832902\n",
      "epoch:  2500 , MSE:  0.6395680494868542\n",
      "epoch:  3000 , MSE:  0.5003803009348071\n",
      "epoch:  3500 , MSE:  0.5001471622531244\n",
      "epoch:  4000 , MSE:  0.4971478287340533\n",
      "epoch:  4500 , MSE:  0.5607484478105184\n",
      "epoch:  0 , MSE:  2.062565266404382\n",
      "epoch:  500 , MSE:  0.49659075675559644\n",
      "epoch:  1000 , MSE:  0.22780402912972297\n",
      "epoch:  1500 , MSE:  1.1787451606625337e-05\n",
      "epoch:  2000 , MSE:  9.149577617703574e-11\n",
      "epoch:  2500 , MSE:  1.265681409922092e-15\n",
      "epoch:  3000 , MSE:  7.650560947270914e-21\n",
      "epoch:  3500 , MSE:  7.145755994095793e-26\n",
      "epoch:  4000 , MSE:  2.785665071561698e-30\n",
      "epoch:  4500 , MSE:  1.4544622940012405e-30\n"
     ]
    }
   ],
   "source": [
    "# Inicializamos los valores de X y y\n",
    "X = np.array([\n",
    "    [0,0],\n",
    "    [0,1],\n",
    "    [1,0],\n",
    "    [1,1]\n",
    "], dtype=np.float32)\n",
    "y = np.array([0,1,1,0], dtype=np.float32)\n",
    "\n",
    "# Diferentes epsilons\n",
    "eps2 = 0.02\n",
    "eps3 = 0.002\n",
    "\n",
    "# Hacemos una prueba de la función\n",
    "resultados_e1 = fit_XOR_miniBatch(X, y)\n",
    "resultados_e2 = fit_XOR_miniBatch(X, y, epsilon=eps2)\n",
    "resultados_e3 = fit_XOR_miniBatch(X, y, epsilon=eps3)"
   ]
  },
  {
   "cell_type": "code",
   "execution_count": 72,
   "metadata": {},
   "outputs": [
    {
     "data": {
      "image/png": "[encoded data removed]",
      "text/plain": [
       "<Figure size 640x480 with 1 Axes>"
      ]
     },
     "metadata": {},
     "output_type": "display_data"
    }
   ],
   "source": [
    "# Ploteamos los resultados\n",
    "plt.figure()\n",
    "plt.plot(resultados_e1, label='epsilon=0.2')\n",
    "plt.plot(resultados_e2, label=f'epsilon={eps2}')\n",
    "plt.plot(resultados_e3, label=f'epsilon={eps3}')\n",
    "plt.legend()\n",
    "plt.show()"
   ]
  },
  {
   "cell_type": "markdown",
   "metadata": {},
   "source": [
    "- Se ve que dependiendo el valor del epsilon, se modifica el número de epochs necesarios para llegar a cero."
   ]
  },
  {
   "cell_type": "code",
   "execution_count": 81,
   "metadata": {},
   "outputs": [
    {
     "name": "stdout",
     "output_type": "stream",
     "text": [
      "epoch:  0 , MSE:  2.6012275302111787\n",
      "epoch:  1000 , MSE:  0.5002580006625412\n",
      "epoch:  2000 , MSE:  0.5008520291389369\n",
      "epoch:  3000 , MSE:  0.40144730770916515\n",
      "epoch:  4000 , MSE:  4.75636991038365e-12\n",
      "epoch:  5000 , MSE:  3.41056616801318e-27\n",
      "epoch:  6000 , MSE:  2.2001823684679782e-30\n",
      "epoch:  7000 , MSE:  2.070759876205156e-30\n",
      "epoch:  8000 , MSE:  2.070759876205156e-30\n",
      "epoch:  9000 , MSE:  2.2001823684679782e-30\n",
      "epoch:  0 , MSE:  4.665518564351947\n",
      "epoch:  1000 , MSE:  0.5112832282878845\n",
      "epoch:  2000 , MSE:  0.5067734574340483\n",
      "epoch:  3000 , MSE:  0.46910546630393485\n",
      "epoch:  4000 , MSE:  0.47059479494465556\n",
      "epoch:  5000 , MSE:  0.4252134693198728\n",
      "epoch:  6000 , MSE:  0.4012383211567607\n",
      "epoch:  7000 , MSE:  0.3743630107492564\n",
      "epoch:  8000 , MSE:  0.28450322377609855\n",
      "epoch:  9000 , MSE:  0.1869627970812894\n",
      "epoch:  0 , MSE:  2.745498571139068\n",
      "epoch:  1000 , MSE:  0.5025557346302136\n",
      "epoch:  2000 , MSE:  0.5042719588947369\n",
      "epoch:  3000 , MSE:  0.5040988637499844\n",
      "epoch:  4000 , MSE:  0.5019971523265507\n",
      "epoch:  5000 , MSE:  0.5037831665908712\n",
      "epoch:  6000 , MSE:  0.5017199636397731\n",
      "epoch:  7000 , MSE:  0.5038210898326376\n",
      "epoch:  8000 , MSE:  0.5031064961428864\n",
      "epoch:  9000 , MSE:  0.5013999994576335\n"
     ]
    }
   ],
   "source": [
    "# Inicializamos los valores de X y y\n",
    "X = np.array([\n",
    "    [0,0],\n",
    "    [0,1],\n",
    "    [1,0],\n",
    "    [1,1]\n",
    "], dtype=np.float32)\n",
    "y = np.array([0,1,1,0], dtype=np.float32)\n",
    "\n",
    "# Diferentes learning rates\n",
    "lr2 = 0.01\n",
    "lr3 = 0.001\n",
    "\n",
    "# Hacemos una prueba de la función\n",
    "resultados_lr1 = fit_XOR_miniBatch(X, y, epochs=10000)\n",
    "resultados_lr2 = fit_XOR_miniBatch(X, y, lr=lr2, epochs=10000)\n",
    "resultados_lr3 = fit_XOR_miniBatch(X, y, lr=lr3, epochs=10000)"
   ]
  },
  {
   "cell_type": "code",
   "execution_count": 82,
   "metadata": {},
   "outputs": [
    {
     "data": {
      "image/png": "[encoded data removed]",
      "text/plain": [
       "<Figure size 640x480 with 1 Axes>"
      ]
     },
     "metadata": {},
     "output_type": "display_data"
    }
   ],
   "source": [
    "# Ploteamos los resultados\n",
    "plt.figure()\n",
    "plt.plot(resultados_lr1, label='learning rate=0.1')\n",
    "plt.plot(resultados_lr2, label=f'learning rate={lr2}')\n",
    "plt.plot(resultados_lr3, label=f'learning rate={lr3}')\n",
    "plt.legend()\n",
    "plt.show()"
   ]
  },
  {
   "cell_type": "markdown",
   "metadata": {},
   "source": [
    "- Se ve en este caso que con un learning rate mayor, converge más rápido.\n",
    "- Se prueban varias corridas y existe una diferencia de las convergencias."
   ]
  },
  {
   "cell_type": "markdown",
   "metadata": {},
   "source": [
    "## Planteamos modelo XOR con PyTorch"
   ]
  },
  {
   "cell_type": "code",
   "execution_count": 21,
   "metadata": {},
   "outputs": [],
   "source": [
    "# Definimos los tensores de entrada para usarse en los modelos\n",
    "X = torch.tensor([\n",
    "    [0, 0], \n",
    "    [0, 1], \n",
    "    [1, 0], \n",
    "    [1, 1]], dtype=torch.float32)\n",
    "y = torch.tensor([[0], [1], [1], [0]], dtype=torch.float32)"
   ]
  },
  {
   "cell_type": "code",
   "execution_count": 22,
   "metadata": {},
   "outputs": [],
   "source": [
    "# Para hacer el planteo con PyTorch, es necesario realizar una clase y heredarla de torch nn.Module\n",
    "class ModeloXOR(nn.Module): # https://pytorch.org/docs/stable/generated/torch.nn.Module.html\n",
    "    # Definimos la función init donde generamos los tipos de red\n",
    "    def __init__(self):\n",
    "        # Hereda el constructor de nn.Module\n",
    "        super(ModeloXOR, self).__init__()\n",
    "        \n",
    "        # Generamos las capas que se usarán\n",
    "        self.capa1 = nn.Linear(in_features=2, out_features=2) # Las salidas y entradas son 2\n",
    "        self.capa2 = nn.Linear(in_features=2, out_features=1) # recibe las dos entradas y genera la salida\n",
    "        \n",
    "    # Definimos la función forward, que tendrá una acticación sigmoide en la primera capa\n",
    "    def forward(self, entrada):\n",
    "        # La primera salida lleva la aplicación de una sigmoide y la segunda la identidad\n",
    "        salida1 = nn.functional.sigmoid(self.capa1(entrada)) # https://pytorch.org/docs/stable/generated/torch.nn.functional.sigmoid.html\n",
    "        salida2 = self.capa2(salida1)\n",
    "        return salida2"
   ]
  },
  {
   "cell_type": "code",
   "execution_count": 23,
   "metadata": {},
   "outputs": [
    {
     "data": {
      "text/plain": [
       "ModeloXOR(\n",
       "  (capa1): Linear(in_features=2, out_features=2, bias=True)\n",
       "  (capa2): Linear(in_features=2, out_features=1, bias=True)\n",
       ")"
      ]
     },
     "execution_count": 23,
     "metadata": {},
     "output_type": "execute_result"
    }
   ],
   "source": [
    "# Una vez ya definida, podemos generar una instancia del modelo\n",
    "modelo = ModeloXOR()\n",
    "modelo"
   ]
  },
  {
   "cell_type": "code",
   "execution_count": 24,
   "metadata": {},
   "outputs": [],
   "source": [
    "# En este caso en particular, debemos calcular como criterio de pérdida MSE y como optimizador un SGD\n",
    "funcion_perdida = nn.MSELoss() # https://pytorch.org/docs/stable/generated/torch.nn.MSELoss.html\n",
    "optimizador = torch.optim.SGD(modelo.parameters(), lr=0.1) # https://pytorch.org/docs/stable/generated/torch.optim.SGD.html"
   ]
  },
  {
   "cell_type": "code",
   "execution_count": 25,
   "metadata": {},
   "outputs": [
    {
     "name": "stdout",
     "output_type": "stream",
     "text": [
      "Epoch [0/20000], Pérdida: 0.2816257178783417\n",
      "Epoch [2000/20000], Pérdida: 0.24991577863693237\n",
      "Epoch [4000/20000], Pérdida: 0.2446751445531845\n",
      "Epoch [6000/20000], Pérdida: 0.013914259150624275\n",
      "Epoch [8000/20000], Pérdida: 3.866773568006465e-11\n",
      "Epoch [10000/20000], Pérdida: 3.4990677022506134e-11\n",
      "Epoch [12000/20000], Pérdida: 3.4990677022506134e-11\n",
      "Epoch [14000/20000], Pérdida: 3.4990677022506134e-11\n",
      "Epoch [16000/20000], Pérdida: 3.4990677022506134e-11\n",
      "Epoch [18000/20000], Pérdida: 3.4990677022506134e-11\n"
     ]
    }
   ],
   "source": [
    "# El entrenamiento se produce siguiendo las indicaciones de los ejemplos de la documentación\n",
    "\n",
    "# Definimos un número de epochs\n",
    "epochs = 20000\n",
    "for epoch in range(epochs):\n",
    "    # Hacemos el forward propagation\n",
    "    salidas = modelo(X)\n",
    "    perdida = funcion_perdida(salidas, y)\n",
    "    \n",
    "    # Hacemos el backward propagation que ya incluye la actualización de los parámetros\n",
    "    optimizador.zero_grad() # https://pytorch.org/docs/stable/generated/torch.optim.Optimizer.zero_grad.html -> resetea los gradientes\n",
    "    perdida.backward() # https://discuss.pytorch.org/t/what-does-the-backward-function-do/9944\n",
    "    optimizador.step() # re evalua el modelo\n",
    "    \n",
    "    # Imprimimos las epochs\n",
    "    if (epoch % (epochs/10)) == 0:\n",
    "        print(f'Epoch [{epoch}/{epochs}], Pérdida: {perdida.item()}')"
   ]
  },
  {
   "cell_type": "code",
   "execution_count": 26,
   "metadata": {},
   "outputs": [],
   "source": [
    "# En este caso en particular, debemos calcular como criterio de pérdida MSE y como optimizador un minibatch\n",
    "funcion_perdida = nn.MSELoss() # https://pytorch.org/docs/stable/generated/torch.nn.MSELoss.html\n",
    "optimizador = torch.optim.Adam(modelo.parameters(), lr=0.1) # https://pytorch.org/docs/stable/generated/torch.optim.Adam.html"
   ]
  },
  {
   "cell_type": "code",
   "execution_count": 27,
   "metadata": {},
   "outputs": [
    {
     "name": "stdout",
     "output_type": "stream",
     "text": [
      "Epoch [0/20000], Pérdida: 3.4990677022506134e-11\n",
      "Epoch [2000/20000], Pérdida: 0.0\n",
      "Epoch [4000/20000], Pérdida: 0.0\n",
      "Epoch [6000/20000], Pérdida: 0.0\n",
      "Epoch [8000/20000], Pérdida: 0.0\n",
      "Epoch [10000/20000], Pérdida: 0.0\n",
      "Epoch [12000/20000], Pérdida: 0.0\n",
      "Epoch [14000/20000], Pérdida: 0.0\n",
      "Epoch [16000/20000], Pérdida: 0.0\n",
      "Epoch [18000/20000], Pérdida: 0.0\n"
     ]
    }
   ],
   "source": [
    "# El entrenamiento se produce siguiendo las indicaciones de los ejemplos de la documentación\n",
    "\n",
    "# Definimos un número de epochs\n",
    "epochs = 20000\n",
    "for epoch in range(epochs):\n",
    "    # Hacemos el forward propagation\n",
    "    salidas = modelo(X)\n",
    "    perdida = funcion_perdida(salidas, y)\n",
    "    \n",
    "    # Hacemos el backward propagation que ya incluye la actualización de los parámetros\n",
    "    optimizador.zero_grad() # https://pytorch.org/docs/stable/generated/torch.optim.Optimizer.zero_grad.html -> resetea los gradientes\n",
    "    perdida.backward() # https://discuss.pytorch.org/t/what-does-the-backward-function-do/9944\n",
    "    optimizador.step() # re evalua el modelo\n",
    "    \n",
    "    # Imprimimos las epochs\n",
    "    if (epoch % (epochs/10)) == 0:\n",
    "        print(f'Epoch [{epoch}/{epochs}], Pérdida: {perdida.item()}')"
   ]
  }
 ],
 "metadata": {
  "kernelspec": {
   "display_name": "Python 3 (ipykernel)",
   "language": "python",
   "name": "python3"
  },
  "language_info": {
   "codemirror_mode": {
    "name": "ipython",
    "version": 3
   },
   "file_extension": ".py",
   "mimetype": "text/x-python",
   "name": "python",
   "nbconvert_exporter": "python",
   "pygments_lexer": "ipython3",
   "version": "3.10.13"
  }
 },
 "nbformat": 4,
 "nbformat_minor": 4
}
